{
 "cells": [
  {
   "cell_type": "code",
   "execution_count": 1,
   "metadata": {
    "collapsed": true
   },
   "outputs": [],
   "source": [
    "# Dependencies\n",
    "import json\n",
    "import numpy as np\n",
    "from datetime import datetime\n",
    "import time as time\n",
    "import matplotlib.pyplot as plt\n",
    "import pandas as pd\n",
    "import requests as req\n",
    "import zipcodes\n",
    "import http.client "
   ]
  },
  {
   "cell_type": "code",
   "execution_count": 2,
   "metadata": {},
   "outputs": [
    {
     "data": {
      "text/html": [
       "<div>\n",
       "<style>\n",
       "    .dataframe thead tr:only-child th {\n",
       "        text-align: right;\n",
       "    }\n",
       "\n",
       "    .dataframe thead th {\n",
       "        text-align: left;\n",
       "    }\n",
       "\n",
       "    .dataframe tbody tr th {\n",
       "        vertical-align: top;\n",
       "    }\n",
       "</style>\n",
       "<table border=\"1\" class=\"dataframe\">\n",
       "  <thead>\n",
       "    <tr style=\"text-align: right;\">\n",
       "      <th></th>\n",
       "      <th>Zipcode</th>\n",
       "      <th>ZipCodeType</th>\n",
       "      <th>City</th>\n",
       "      <th>State</th>\n",
       "      <th>LocationType</th>\n",
       "      <th>Lat</th>\n",
       "      <th>Long</th>\n",
       "      <th>Location</th>\n",
       "      <th>Decommisioned</th>\n",
       "      <th>TaxReturnsFiled</th>\n",
       "      <th>EstimatedPopulation</th>\n",
       "      <th>TotalWages</th>\n",
       "    </tr>\n",
       "  </thead>\n",
       "  <tbody>\n",
       "    <tr>\n",
       "      <th>0</th>\n",
       "      <td>705</td>\n",
       "      <td>STANDARD</td>\n",
       "      <td>AIBONITO</td>\n",
       "      <td>PR</td>\n",
       "      <td>PRIMARY</td>\n",
       "      <td>18.14</td>\n",
       "      <td>-66.26</td>\n",
       "      <td>NA-US-PR-AIBONITO</td>\n",
       "      <td>False</td>\n",
       "      <td>NaN</td>\n",
       "      <td>NaN</td>\n",
       "      <td>NaN</td>\n",
       "    </tr>\n",
       "    <tr>\n",
       "      <th>1</th>\n",
       "      <td>610</td>\n",
       "      <td>STANDARD</td>\n",
       "      <td>ANASCO</td>\n",
       "      <td>PR</td>\n",
       "      <td>PRIMARY</td>\n",
       "      <td>18.28</td>\n",
       "      <td>-67.14</td>\n",
       "      <td>NA-US-PR-ANASCO</td>\n",
       "      <td>False</td>\n",
       "      <td>NaN</td>\n",
       "      <td>NaN</td>\n",
       "      <td>NaN</td>\n",
       "    </tr>\n",
       "    <tr>\n",
       "      <th>2</th>\n",
       "      <td>612</td>\n",
       "      <td>STANDARD</td>\n",
       "      <td>ARECIBO</td>\n",
       "      <td>PR</td>\n",
       "      <td>PRIMARY</td>\n",
       "      <td>18.45</td>\n",
       "      <td>-66.73</td>\n",
       "      <td>NA-US-PR-ARECIBO</td>\n",
       "      <td>False</td>\n",
       "      <td>NaN</td>\n",
       "      <td>NaN</td>\n",
       "      <td>NaN</td>\n",
       "    </tr>\n",
       "    <tr>\n",
       "      <th>3</th>\n",
       "      <td>601</td>\n",
       "      <td>STANDARD</td>\n",
       "      <td>ADJUNTAS</td>\n",
       "      <td>PR</td>\n",
       "      <td>PRIMARY</td>\n",
       "      <td>18.16</td>\n",
       "      <td>-66.72</td>\n",
       "      <td>NA-US-PR-ADJUNTAS</td>\n",
       "      <td>False</td>\n",
       "      <td>NaN</td>\n",
       "      <td>NaN</td>\n",
       "      <td>NaN</td>\n",
       "    </tr>\n",
       "    <tr>\n",
       "      <th>4</th>\n",
       "      <td>602</td>\n",
       "      <td>STANDARD</td>\n",
       "      <td>AGUADA</td>\n",
       "      <td>PR</td>\n",
       "      <td>PRIMARY</td>\n",
       "      <td>18.38</td>\n",
       "      <td>-67.18</td>\n",
       "      <td>NA-US-PR-AGUADA</td>\n",
       "      <td>False</td>\n",
       "      <td>NaN</td>\n",
       "      <td>NaN</td>\n",
       "      <td>NaN</td>\n",
       "    </tr>\n",
       "  </tbody>\n",
       "</table>\n",
       "</div>"
      ],
      "text/plain": [
       "   Zipcode ZipCodeType      City State LocationType    Lat   Long  \\\n",
       "0      705    STANDARD  AIBONITO    PR      PRIMARY  18.14 -66.26   \n",
       "1      610    STANDARD    ANASCO    PR      PRIMARY  18.28 -67.14   \n",
       "2      612    STANDARD   ARECIBO    PR      PRIMARY  18.45 -66.73   \n",
       "3      601    STANDARD  ADJUNTAS    PR      PRIMARY  18.16 -66.72   \n",
       "4      602    STANDARD    AGUADA    PR      PRIMARY  18.38 -67.18   \n",
       "\n",
       "            Location  Decommisioned  TaxReturnsFiled  EstimatedPopulation  \\\n",
       "0  NA-US-PR-AIBONITO          False              NaN                  NaN   \n",
       "1    NA-US-PR-ANASCO          False              NaN                  NaN   \n",
       "2   NA-US-PR-ARECIBO          False              NaN                  NaN   \n",
       "3  NA-US-PR-ADJUNTAS          False              NaN                  NaN   \n",
       "4    NA-US-PR-AGUADA          False              NaN                  NaN   \n",
       "\n",
       "   TotalWages  \n",
       "0         NaN  \n",
       "1         NaN  \n",
       "2         NaN  \n",
       "3         NaN  \n",
       "4         NaN  "
      ]
     },
     "execution_count": 2,
     "metadata": {},
     "output_type": "execute_result"
    }
   ],
   "source": [
    "#read zip code file and verify the zip is valid\n",
    "all_zips = pd.read_csv(\"Resources/free-zipcode-database-Primary.csv\")\n",
    "all_zips.head()"
   ]
  },
  {
   "cell_type": "code",
   "execution_count": 3,
   "metadata": {},
   "outputs": [
    {
     "name": "stdout",
     "output_type": "stream",
     "text": [
      "Which zipcode would you like to score? 22201\n",
      "valid zip\n"
     ]
    }
   ],
   "source": [
    "\n",
    "# get latitude and longitude of target zipcode for use with google places\n",
    "target_zip = input(\"Which zipcode would you like to score? \")\n",
    "\n",
    "#make sure the zip code is in the valid zip code file\n",
    "if any(all_zips[\"Zipcode\"] == int(target_zip)):\n",
    "        \n",
    "    print(\"valid zip\")\n",
    "\n",
    "else:\n",
    "    print(\"That is not a valid zip code\")\n",
    "    target_zip = input(\"Please try a new zipcode \")\n",
    "\n",
    "\n",
    "lat = zipcodes.matching(target_zip)[0][\"lat\"]\n",
    "lng = zipcodes.matching(target_zip)[0][\"long\"]\n",
    "city = zipcodes.matching(target_zip)[0][\"city\"].lower()\n",
    "state = zipcodes.matching(target_zip)[0][\"state\"].lower()"
   ]
  },
  {
   "cell_type": "code",
   "execution_count": 4,
   "metadata": {
    "collapsed": true
   },
   "outputs": [],
   "source": [
    "# Function to store Zillow home values and monthly rental prices for 2013-2017 quarters\n",
    "# Function requires a zip code string; returns data frame\n",
    "\n",
    "def get_home_data(zipc):\n",
    "    zip_code = int(zipc)\n",
    "    \n",
    "    #create lists for the Zillow data \n",
    "    home_values=[]\n",
    "    monthly_rentals=[]\n",
    "    periods = []\n",
    "    years=[\"2013\",\"2014\",\"2015\",\"2016\",\"2017\"]\n",
    "    months=[\"03\",\"06\",\"09\",\"12\"]\n",
    "    \n",
    "    \n",
    "    ## Zillow Home Value Index (ZHVI) is a time series tracking the monthly median home value\n",
    "    # get the data just for the input zip code\n",
    "    all_homes = pd.read_csv(\"Resources/Zip_Zhvi_AllHomes.csv\")\n",
    "    zc_all_homes = all_homes[all_homes[\"RegionName\"] == zip_code].iloc[0]\n",
    "\n",
    "    ## Zillow Rental Index (ZRI) is a time series tracking the monthly median rental\n",
    "    all_rental_homes = pd.read_csv(\"Resources/Zip_Zri_AllHomes.csv\")\n",
    "    zc_all_rental_homes = all_rental_homes[all_rental_homes[\"RegionName\"] == zip_code].iloc[0]\n",
    "    \n",
    "    #get the home value and monthly rental data for the years/months specified above\n",
    "    for y in years:\n",
    "        for m in months:\n",
    "            col_name = \"%s-%s\" % (y,m)\n",
    "\n",
    "            try:\n",
    "                #get the data for this column name\n",
    "                home_value = zc_all_homes[col_name]\n",
    "                rent = zc_all_rental_homes[col_name]\n",
    "                home_values.append(home_value)\n",
    "                monthly_rentals.append(rent)\n",
    "                periods.append(col_name)\n",
    "                #print(col_name, home_value, rent)\n",
    "            except:\n",
    "                print(\"no value for: %s\" % col_name)\n",
    "                    \n",
    "    #store rent and house prices into a DF\n",
    "    zillow_df=pd.DataFrame({\"period\": periods, \n",
    "                        \"home_value\": home_values,\n",
    "                        \"monthly_rent\": monthly_rentals})\n",
    "    return zillow_df, periods                  "
   ]
  },
  {
   "cell_type": "code",
   "execution_count": 5,
   "metadata": {},
   "outputs": [
    {
     "name": "stdout",
     "output_type": "stream",
     "text": [
      "no value for: 2017-12\n"
     ]
    }
   ],
   "source": [
    "df, periods = get_home_data(target_zip)"
   ]
  },
  {
   "cell_type": "code",
   "execution_count": 6,
   "metadata": {
    "collapsed": true
   },
   "outputs": [],
   "source": [
    "# Function to plot Zillow home values and monthly rental prices for 2013-2017 quarters\n",
    "# Function requires a DF with the Zillow info and the zip code (string)\n",
    "def plot_homes(df, zipc, periods):\n",
    "    #plot the home values \n",
    "    x_ticks = periods\n",
    "    x_axis = np.arange(1,20,1)\n",
    "    y_axis = df['home_value']\n",
    "    plt.xticks(x_axis, x_ticks, rotation='vertical')\n",
    "    plt.legend\n",
    "    plt.plot(x_axis, y_axis)\n",
    "    plt.ylabel(\"Home Prices ($)\")\n",
    "    plt.title(\"%s Home Sales 2013-2017\" % zipc)\n",
    "    #save the plot??\n",
    "    plt.show()\n",
    "    \n",
    "    #plot the monthly rentals\n",
    "    x_ticks = periods\n",
    "    x_axis = np.arange(1,20,1)\n",
    "    y_axis = df['monthly_rent']\n",
    "    plt.xticks(x_axis, x_ticks, rotation='vertical')\n",
    "    plt.legend\n",
    "    plt.plot(x_axis, y_axis)\n",
    "    plt.xlabel(\"Recent Quarters\")\n",
    "    plt.ylabel(\"Montly Rents ($)\")\n",
    "    plt.title(\"%s Monthly Rents 2013-2017\" % zipc)\n",
    "    plt.show()"
   ]
  },
  {
   "cell_type": "code",
   "execution_count": 7,
   "metadata": {},
   "outputs": [
    {
     "data": {
      "image/png": "[encoded data removed]",
      "text/plain": [
       "<matplotlib.figure.Figure at 0x11ab80438>"
      ]
     },
     "metadata": {},
     "output_type": "display_data"
    },
    {
     "data": {
      "image/png": "[encoded data removed]",
      "text/plain": [
       "<matplotlib.figure.Figure at 0x116e577f0>"
      ]
     },
     "metadata": {},
     "output_type": "display_data"
    }
   ],
   "source": [
    "plot_homes(df,target_zip,periods)"
   ]
  },
  {
   "cell_type": "code",
   "execution_count": 8,
   "metadata": {
    "collapsed": true
   },
   "outputs": [],
   "source": [
    "#### THIS FUNCTION WILL NOT BE IN THIS FILE! \n",
    "#### IT WILL BE CALLED ONLY ONCE FROM THE MAIN FILE; IT'S JUST HERE FOR NOW FOR TESTING\n",
    "def get_community_data(target_zip):\n",
    "    import http.client \n",
    "   #Onboard API Key\n",
    "    onboard_api_key = \"727ca1bf9168cb8329806cb7e0eef3f6\"\n",
    "    conn = http.client.HTTPSConnection(\"search.onboard-apis.com\")\n",
    "    headers = {\n",
    "        'accept': \"application/json\",\n",
    "        'apikey': \"727ca1bf9168cb8329806cb7e0eef3f6\",\n",
    "        } \n",
    "    community_url = \"/communityapi/v2.0.0/Area/Full/?\"\n",
    "    queries=\"AreaId=ZI\"+target_zip\n",
    "    query_url = community_url + queries\n",
    "    conn.request(\"GET\", query_url, headers=headers) \n",
    "    res = conn.getresponse()\n",
    "    resp = json.loads(res.read())\n",
    "    \n",
    "    return resp\n",
    "    \n"
   ]
  },
  {
   "cell_type": "code",
   "execution_count": 9,
   "metadata": {},
   "outputs": [],
   "source": [
    "#get_details(target_zip)  \n",
    "def get_details(target_zip):\n",
    "    \n",
    "    resp = get_community_data(target_zip)\n",
    "        \n",
    "    #store the individual fields in a dictionary\n",
    "    \n",
    "    crime = resp['response']['result']['package']['item'][0]['crmcytotc']\n",
    "    sales_tax= resp['response']['result']['package']['item'][0]['salestaxrate']\n",
    "    avg_jan = resp['response']['result']['package']['item'][0]['tmpavejan']\n",
    "    avg_jul = resp['response']['result']['package']['item'][0]['tmpavejul']\n",
    "            \n",
    "    return crime, sales_tax, avg_jan, avg_jul"
   ]
  },
  {
   "cell_type": "code",
   "execution_count": 10,
   "metadata": {},
   "outputs": [
    {
     "name": "stdout",
     "output_type": "stream",
     "text": [
      "Market Health: 2.53389168855\n",
      "Walkability and Bikability Scores: 73: Very Walkable, 73: Very Bikeable\n",
      "crime risk: 95\n"
     ]
    }
   ],
   "source": [
    "# Function to store various information about a location, such as walkability score, market health index, schools\n",
    "# Function requires a zip code string, latitude and longitude; returns ?\n",
    "def get_zip_factors (zipc, lat, lng):\n",
    "    \n",
    "    #factors dictionary to return\n",
    "    zip_factors_dict = {}\n",
    "    \n",
    "    #1) Market Health Index: \n",
    "    # This index indicates the current health of a given region’s housing market relative to other markets nationwide. \n",
    "    # It is calculated on a scale of 0 to 10, with 0 = the least healthy markets and 10 = the healthiest markets.\n",
    "    market_health_index = pd.read_csv(\"Resources/MarketHealthIndex_Zip.csv\",encoding=\"ISO-8859-1\")\n",
    "    \n",
    "    try:\n",
    "        zip_market_health = market_health_index[market_health_index[\"RegionName\"] == int(zipc)].iloc[0]\n",
    "        market_health = zip_market_health['MarketHealthIndex']\n",
    "        print(\"Market Health: %s\" % market_health)\n",
    "        zip_factors_dict[\"Market Health\"] = market_health\n",
    "    except:\n",
    "        #no market health data for input zip code; store 0 as a N/A value\n",
    "        zip_factors_dict[\"Market Health\"] = 0\n",
    "    \n",
    "    #2) ##get walkability, transit and bike scores from Walk Score once I have an API.\n",
    "    walk_api_key = \"ca8240c847695f334874949c406f04aa\"\n",
    "    walk_url = \"http://api.walkscore.com/score?format=json&\"\n",
    "    # Build query URL\n",
    "    query_url = walk_url  + \"&lat=\" + str(lat) + \"&lon=\" + str(lng) + \"&transit=1&bike=1\" + \"&wsapikey=\" + walk_api_key\n",
    "    walk_response = req.get(query_url).json()\n",
    "\n",
    "    # Get the neighborhood data from the response\n",
    "    walk_score = walk_response['walkscore']\n",
    "    walk_description=walk_response['description']\n",
    "    \n",
    "    zip_factors_dict[\"walk_score\"] = walk_score\n",
    "    zip_factors_dict[\"walk_description\"] = walk_description\n",
    "    \n",
    "    try:    \n",
    "        bike_score = walk_response['bike']['score']\n",
    "        bike_description = walk_response['bike']['description']\n",
    "        zip_factors_dict[\"bike_score\"] = bike_score\n",
    "        zip_factors_dict[\"bike_description\"] = bike_description\n",
    "    except:\n",
    "        print(\"no bike score\")\n",
    "        bike_score = 0\n",
    "        bike_description = \"\"\n",
    "    print(\"Walkability and Bikability Scores: %s: %s, %s: %s\" % (walk_score, walk_description, bike_score, bike_description))\n",
    "\n",
    "    #get community data and store in dictionary\n",
    "    crime, salestax, avgtempJan, avgtempJul = get_details(target_zip)\n",
    "    zip_factors_dict[\"crime_risk\"] = crime\n",
    "    zip_factors_dict[\"sales_tax_rate\"] = salestax\n",
    "    zip_factors_dict[\"avg_temp_Jan\"] = avgtempJan\n",
    "    zip_factors_dict[\"avg_temp_Jul\"] = avgtempJul\n",
    "    \n",
    "    print(\"crime risk: %s\" % crime)\n",
    "    \n",
    "get_zip_factors(target_zip,lat, lng)    "
   ]
  },
  {
   "cell_type": "code",
   "execution_count": 11,
   "metadata": {},
   "outputs": [
    {
     "name": "stdout",
     "output_type": "stream",
     "text": [
      "10\n",
      "Type: PUBLIC, Name: JEFFERSON MIDDLE SCHOOL\n",
      "Type: CATHOLIC, Name: ST. THOMAS MORE CATHEDRAL SCHOOL\n",
      "Type: PUBLIC, Name: HENRY ELEMENTARY SCHOOL\n",
      "Type: PUBLIC, Name: LONG BRANCH ELEMENTARY SCHOOL\n",
      "Type: PUBLIC, Name: BARRETT ELEMENTARY SCHOOL\n",
      "Type: PRIVATE, Name: CHESTERBROOK MONTESSORI SCHOOL-ARLINGTON FOREST\n",
      "Type: PRIVATE, Name: OUR SAVIOR LUTHERAN SCHOOL\n",
      "Type: PUBLIC, Name: BARCROFT ELEMENTARY SCHOOL\n",
      "Type: PUBLIC, Name: ARLINGTON COMMUNITY HIGH SCHOOL\n",
      "Type: PUBLIC, Name: GOVERNOR'S ACADEMY FOR CAREER AND TECHNICAL EDUCATION IN ARLINGTON\n"
     ]
    }
   ],
   "source": [
    "#Get school data from OnBoard\n",
    "# Function requires latitude and longitude; returns ?\n",
    "def get_school_data(lat, lng):\n",
    "    import http.client \n",
    "\n",
    "    #Onboard API Key\n",
    "    onboard_api_key = \"727ca1bf9168cb8329806cb7e0eef3f6\"\n",
    "\n",
    "    conn = http.client.HTTPSConnection(\"search.onboard-apis.com\") \n",
    "    school_url = \"/propertyapi/v1.0.0/school/snapshot?\"\n",
    "    headers = { \n",
    "        'accept': \"application/json\", \n",
    "        'apikey': \"727ca1bf9168cb8329806cb7e0eef3f6\", \n",
    "        } \n",
    "\n",
    "    point = \"latitude=\" + str(lat) + \"&longitude=\" + str(lng) + \"&radius=5\"\n",
    "    query_url = school_url + point\n",
    "\n",
    "    conn.request(\"GET\", query_url, headers=headers) \n",
    "\n",
    "    res = conn.getresponse()\n",
    "    resp = json.loads(res.read())\n",
    "    resp\n",
    "    \n",
    "    #loop through and count up private and public schools\n",
    "    total = resp['status']['pagesize']\n",
    "    print(total)\n",
    "    for i in range(0, total):    \n",
    "        print(\"Type: %s, Name: %s\" % (resp['school'][i]['School']['Filetypetext'], resp['school'][i]['School']['InstitutionName']))\n",
    "        #print(resp['school'][i]['School']['InstitutionName'])\n",
    "\n",
    "    #What do we want to return from this function? number of schools of each type? all requests seem to return 10 total\n",
    "    \n",
    "get_school_data(lat,lng)    "
   ]
  },
  {
   "cell_type": "code",
   "execution_count": null,
   "metadata": {
    "collapsed": true
   },
   "outputs": [],
   "source": []
  }
 ],
 "metadata": {
  "kernelspec": {
   "display_name": "Python 3",
   "language": "python",
   "name": "python3"
  },
  "language_info": {
   "codemirror_mode": {
    "name": "ipython",
    "version": 3
   },
   "file_extension": ".py",
   "mimetype": "text/x-python",
   "name": "python",
   "nbconvert_exporter": "python",
   "pygments_lexer": "ipython3",
   "version": "3.6.1"
  }
 },
 "nbformat": 4,
 "nbformat_minor": 2
}
