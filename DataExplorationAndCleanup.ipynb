{
 "cells": [
  {
   "attachments": {},
   "cell_type": "markdown",
   "metadata": {},
   "source": [
    "\n",
    "Data Exploration and Cleanup Process\n",
    "\n",
    "1.\tOur interest was in finding information about a location defined by a zip code.\n",
    "2.\tWe learned that for some APIs or datasets, we could search by zip code; for others we needed to use lat/long coordinates.\n",
    "3.\tWe explored the Google Maps API for getting Point of Interest around a coordinate; and decided on a list of POIs \n",
    "4.\tWe explored the census data and age demographics, using both census CSV data and age demographic data via the Onboard API\n",
    "5.\tWe explored real estate data (home values, rents and market health) using Zillow’s CSV files\n",
    "6.\tWe explored other data we thought would be good factors in helping determine whether someone would want to move to a particular location:\n",
    "a.\tWalkability: using Walkscore API\n",
    "b.\tCrime risk, sales tax and average temperatures using Onboard API\n",
    "c.\tSchools in the area using Onboard API\n",
    "7.\tWe used zipcodes (Python package) and a Zipcode CSV file for zipcode information. We needed to “clean” the zipcode file to remove non-standard zip codes (such as for PO Boxes or military APOs).\n",
    "\n",
    "\n",
    "CSV Files Used:\n",
    "\n",
    "1)\tZillow: MarketHealthIndex_Zip.csv\n",
    "2)\tZillow: Zip_Zhvi_AllHomes.csv\n",
    "3)\tZillow: Zip_Zri_AllHomes.csv\n",
    "4)\tCensus: co-est2016-alldata.csv\n",
    "5)\tZip Code: free-zipcode-database-Primary.csv\n",
    "\n",
    "APIs used:\n",
    "\n",
    "1)\tGoogle Maps API - https://developers.google.com/maps/\n",
    "2)\tOnboard API - https://www.onboardinformatics.com\n",
    "3)\tWalkscore API – https://www.walkscore.com/professional/api.php\n"
   ]
  }
 ],
 "metadata": {
  "kernelspec": {
   "display_name": "Python 3",
   "language": "python",
   "name": "python3"
  },
  "language_info": {
   "codemirror_mode": {
    "name": "ipython",
    "version": 3
   },
   "file_extension": ".py",
   "mimetype": "text/x-python",
   "name": "python",
   "nbconvert_exporter": "python",
   "pygments_lexer": "ipython3",
   "version": "3.6.1"
  }
 },
 "nbformat": 4,
 "nbformat_minor": 2
}
